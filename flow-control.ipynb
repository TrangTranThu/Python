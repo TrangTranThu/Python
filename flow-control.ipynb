{
 "cells": [
  {
   "cell_type": "code",
   "execution_count": 1,
   "id": "27ce225c",
   "metadata": {
    "scrolled": true
   },
   "outputs": [
    {
     "name": "stdout",
     "output_type": "stream",
     "text": [
      "Please input your name: trang\n",
      "Please input your birth year: 2003\n",
      "Hello trang, If your birthyear is 2003, then your age is 20\n"
     ]
    }
   ],
   "source": [
    "name = input('Please input your name: ')\n",
    "birth_year = int(input('Please input your birth year: '))\n",
    "\n",
    "# Điều kiện trong \"while not\" là một biểu thức boolean. \n",
    "# Nếu điều kiện là sai, các câu lệnh bên trong vòng lặp được thực thi\n",
    "# looping\n",
    "while not 1900 < birth_year < 2023:\n",
    "    # các câu lệnh được thực thi khi condition là sai\n",
    "    print('Your birth year is invalid')\n",
    "    birth_year = input('Please input your birth year again: ')\n",
    "age = 2023 - birth_year\n",
    "print(f'Hello {name}, If your birthyear is {birth_year}, then your age is {age}')"
   ]
  },
  {
   "cell_type": "code",
   "execution_count": 2,
   "id": "ef84a66d",
   "metadata": {
    "scrolled": true
   },
   "outputs": [
    {
     "name": "stdout",
     "output_type": "stream",
     "text": [
      "Please input your name: trang\n",
      "Please input your birth year: 2003\n",
      "too good\n"
     ]
    }
   ],
   "source": [
    "name = input('Please input your name: ')\n",
    "birth_year = int(input('Please input your birth year: '))\n",
    "age = 2023-birth_year\n",
    "\n",
    "# branching flow\n",
    "if age < 12:\n",
    "    print('You need your parents\\' permission to continue')\n",
    "elif age < 24:\n",
    "    print('too good')\n",
    "else:\n",
    "    print('oce')"
   ]
  },
  {
   "cell_type": "code",
   "execution_count": 3,
   "id": "54f1b6e5",
   "metadata": {},
   "outputs": [
    {
     "name": "stdout",
     "output_type": "stream",
     "text": [
      "Please input name filetrang.mpe\n",
      "Let's check again\n"
     ]
    }
   ],
   "source": [
    "file_name = input('Please input name file')\n",
    "suffix = file_name[file_name.index('.')+1:]\n",
    "#print(suffix)\n",
    "if suffix == 'mp4':\n",
    "    print(f'{file_name} is a video')\n",
    "elif suffix == 'mp3':\n",
    "    print(f'{file_name} is an audio')\n",
    "else:\n",
    "    print('Let\\'s check again') "
   ]
  },
  {
   "cell_type": "code",
   "execution_count": 5,
   "id": "0c97dc5b",
   "metadata": {},
   "outputs": [
    {
     "ename": "SyntaxError",
     "evalue": "invalid syntax (908176439.py, line 4)",
     "output_type": "error",
     "traceback": [
      "\u001b[1;36m  File \u001b[1;32m\"C:\\Users\\Admin\\AppData\\Local\\Temp\\ipykernel_12240\\908176439.py\"\u001b[1;36m, line \u001b[1;32m4\u001b[0m\n\u001b[1;33m    go outside\u001b[0m\n\u001b[1;37m       ^\u001b[0m\n\u001b[1;31mSyntaxError\u001b[0m\u001b[1;31m:\u001b[0m invalid syntax\n"
     ]
    }
   ],
   "source": [
    "start\n",
    "\n",
    "if not raining:\n",
    "    go outside\n",
    "elif raining and have umbrella:\n",
    "    go outside\n",
    "elif not have umbrella:\n",
    "    while raining:\n",
    "        wait\n",
    "    go outside\n",
    "    \n",
    "end"
   ]
  },
  {
   "cell_type": "markdown",
   "id": "32323ec5",
   "metadata": {},
   "source": [
    "## PROJECT_MINI\n"
   ]
  },
  {
   "cell_type": "code",
   "execution_count": null,
   "id": "8db51ed8",
   "metadata": {},
   "outputs": [],
   "source": [
    "# way1\n",
    "# while:\n",
    "#    break\n",
    "\n",
    "import random\n",
    "\n",
    "secret_number = random.randint(1, 5)\n",
    "print(\"I am thinking of a number between 1 and 5.\")\n",
    "print(\"What is the secret number?\")\n",
    "\n",
    "while True:\n",
    "    guess = int(input(\"You only have one chance.Take a guess: \"))\n",
    "    if guess < secret_number:\n",
    "        print('oh, I\\'m sr, yr guess is too low.')\n",
    "    elif guess > secret_number:\n",
    "        print('oh, I\\'m sr, yr guess is too high.')\n",
    "    else:\n",
    "        print(\"Congratuation! you guessed it right.\")\n",
    "        break\n",
    "print(f'The secret number is {secret_number}')"
   ]
  },
  {
   "cell_type": "code",
   "execution_count": 12,
   "id": "6558eef3",
   "metadata": {},
   "outputs": [
    {
     "name": "stdout",
     "output_type": "stream",
     "text": [
      "Please input password: 33\n",
      "Please input again\n",
      "Please input password: boringppl\n",
      "Access granted!\n"
     ]
    }
   ],
   "source": [
    "correct_password = 'boringppl'\n",
    "while True:\n",
    "    pass_user = input(\"Please input password: \")\n",
    "    if pass_user == correct_password:\n",
    "        print('Access granted!')\n",
    "        break\n",
    "    else:\n",
    "        print('Please input again')"
   ]
  },
  {
   "cell_type": "code",
   "execution_count": 2,
   "id": "64ab4335",
   "metadata": {},
   "outputs": [
    {
     "name": "stdout",
     "output_type": "stream",
     "text": [
      "I am thinking of a number between 1 and 5.\n",
      "What is the secret number?\n",
      "Take a guess: 2\n",
      "oh, I'm sr, yr guess is too low.\n",
      "Take a guess: 2\n",
      "oh, I'm sr, yr guess is too low.\n",
      "Take a guess: 2\n",
      "oh, I'm sr, yr guess is too low.\n",
      "Take a guess: 3\n",
      "Congratulation!\n",
      "The secret number is 3\n"
     ]
    }
   ],
   "source": [
    "#way2\n",
    "# while not condition:\n",
    "import random\n",
    "\n",
    "secret_number = random.randint(1, 5)\n",
    "print(\"I am thinking of a number between 1 and 5.\")\n",
    "print(\"What is the secret number?\")\n",
    "\n",
    "while not guess == secret_number:\n",
    "    guess = int(input(\"Take a guess: \"))\n",
    "    if guess < secret_number:\n",
    "        print('oh, I\\'m sr, yr guess is too low.')\n",
    "    elif guess > secret_number:\n",
    "        print('oh, I\\'m sr, yr guess is too high.')\n",
    "print(\"Congratulation!\")\n",
    "print(f'The secret number is {secret_number}')"
   ]
  },
  {
   "cell_type": "code",
   "execution_count": 7,
   "id": "3a75c61d",
   "metadata": {},
   "outputs": [
    {
     "name": "stdout",
     "output_type": "stream",
     "text": [
      "I am thinking of a number between 1 and 5.\n",
      "What is the secret number?\n",
      "Take a guess: 1\n",
      "oh, I'm sr, yr guess is too low.\n",
      "Take a guess: 2\n",
      "oh, I'm sr, yr guess is too low.\n",
      "Take a guess: 2\n",
      "oh, I'm sr, yr guess is too low.\n",
      "The secret number is 3\n"
     ]
    }
   ],
   "source": [
    "#way3\n",
    "# while sequence\n",
    "\n",
    "import random\n",
    "\n",
    "secret_number = random.randint(1, 5)\n",
    "print(\"I am thinking of a number between 1 and 5.\")\n",
    "print(\"What is the secret number?\")\n",
    "\n",
    "guess_take = 1\n",
    "while guess_take <= 3:\n",
    "    guess = int(input(\"Take a guess: \"))\n",
    "    if guess < secret_number:\n",
    "        print('oh, I\\'m sr, yr guess is too low.')\n",
    "    elif guess > secret_number:\n",
    "        print('oh, I\\'m sr, yr guess is too high.')\n",
    "    else:\n",
    "        print('Congratulation!')\n",
    "        break\n",
    "    guess_take += 1\n",
    "    \n",
    "print(f'The secret number is {secret_number}')\n"
   ]
  },
  {
   "cell_type": "code",
   "execution_count": 8,
   "id": "2439ea3e",
   "metadata": {},
   "outputs": [
    {
     "name": "stdout",
     "output_type": "stream",
     "text": [
      "Hello Amy\n",
      "Hello Luna\n",
      "Hello Alext\n",
      "Hello John\n"
     ]
    }
   ],
   "source": [
    "# for statement\n",
    "# for varible in sequence\n",
    "\n",
    "friends = ['Amy', 'Luna', 'Alext', 'John']\n",
    "for i in friends:\n",
    "    print('Hello', i)"
   ]
  },
  {
   "cell_type": "code",
   "execution_count": null,
   "id": "c6374c3f",
   "metadata": {},
   "outputs": [],
   "source": []
  }
 ],
 "metadata": {
  "kernelspec": {
   "display_name": "Python 3 (ipykernel)",
   "language": "python",
   "name": "python3"
  },
  "language_info": {
   "codemirror_mode": {
    "name": "ipython",
    "version": 3
   },
   "file_extension": ".py",
   "mimetype": "text/x-python",
   "name": "python",
   "nbconvert_exporter": "python",
   "pygments_lexer": "ipython3",
   "version": "3.9.13"
  }
 },
 "nbformat": 4,
 "nbformat_minor": 5
}
