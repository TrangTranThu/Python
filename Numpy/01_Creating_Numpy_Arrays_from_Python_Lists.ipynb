{
 "cells": [
  {
   "cell_type": "markdown",
   "id": "46b5b322",
   "metadata": {},
   "source": [
    "# Numpy: Numeric computing library"
   ]
  },
  {
   "cell_type": "markdown",
   "id": "f55a6357",
   "metadata": {},
   "source": [
    "numpy(numerical Python) is one of the core packages for \n",
    "numerical computing in python\n",
    "\n",
    "Pandas, Matplotlib, Statmodels and many other Scientific libraries rely on Numpy"
   ]
  },
  {
   "cell_type": "code",
   "execution_count": 3,
   "id": "380ed69b",
   "metadata": {},
   "outputs": [],
   "source": [
    "import numpy as np\n"
   ]
  },
  {
   "cell_type": "markdown",
   "id": "2d3b9bb9",
   "metadata": {},
   "source": [
    "## Creating Numpy Arrays from Python Lists"
   ]
  },
  {
   "cell_type": "code",
   "execution_count": 4,
   "id": "25f5d0cd",
   "metadata": {},
   "outputs": [
    {
     "data": {
      "text/plain": [
       "array([1, 2, 3, 4])"
      ]
     },
     "execution_count": 4,
     "metadata": {},
     "output_type": "execute_result"
    }
   ],
   "source": [
    "np.array([1, 2, 3, 4])"
   ]
  },
  {
   "cell_type": "code",
   "execution_count": 5,
   "id": "ac90a089",
   "metadata": {},
   "outputs": [
    {
     "data": {
      "text/plain": [
       "[3.14, 4, 2, 3]"
      ]
     },
     "execution_count": 5,
     "metadata": {},
     "output_type": "execute_result"
    }
   ],
   "source": [
    "[3.14, 4, 2, 3] # list in python: cho phép chưa các item khác kiểu dl"
   ]
  },
  {
   "cell_type": "code",
   "execution_count": 6,
   "id": "b8794663",
   "metadata": {},
   "outputs": [
    {
     "data": {
      "text/plain": [
       "array([3.14, 4.  , 2.  , 3.  ])"
      ]
     },
     "execution_count": 6,
     "metadata": {},
     "output_type": "execute_result"
    }
   ],
   "source": [
    " np. array([3.14, 4, 2, 3]) # numpy conver all int -> float"
   ]
  },
  {
   "cell_type": "code",
   "execution_count": 7,
   "id": "81b6a0f1",
   "metadata": {},
   "outputs": [
    {
     "data": {
      "text/plain": [
       "array([1., 2., 3., 4.], dtype=float32)"
      ]
     },
     "execution_count": 7,
     "metadata": {},
     "output_type": "execute_result"
    }
   ],
   "source": [
    "# numpy array cụ thể hóa kiểu dl của mảng\n",
    "np.array([1, 2, 3, 4], dtype = 'float32')"
   ]
  },
  {
   "cell_type": "code",
   "execution_count": 8,
   "id": "cc091cf3",
   "metadata": {},
   "outputs": [],
   "source": [
    "a1 = np.array([1, 2, 3, 4])"
   ]
  },
  {
   "cell_type": "code",
   "execution_count": 9,
   "id": "ecb152be",
   "metadata": {},
   "outputs": [
    {
     "data": {
      "text/plain": [
       "numpy.ndarray"
      ]
     },
     "execution_count": 9,
     "metadata": {},
     "output_type": "execute_result"
    }
   ],
   "source": [
    "type(a1)"
   ]
  },
  {
   "cell_type": "code",
   "execution_count": 11,
   "id": "a49e1666",
   "metadata": {},
   "outputs": [],
   "source": [
    "a2 = np.array([[1, 2, 3],\n",
    "              [4, 5, 6]])"
   ]
  },
  {
   "cell_type": "code",
   "execution_count": 12,
   "id": "8abbbfc4",
   "metadata": {},
   "outputs": [
    {
     "data": {
      "text/plain": [
       "numpy.ndarray"
      ]
     },
     "execution_count": 12,
     "metadata": {},
     "output_type": "execute_result"
    }
   ],
   "source": [
    "type(a2)"
   ]
  },
  {
   "cell_type": "code",
   "execution_count": 15,
   "id": "e28856fa",
   "metadata": {},
   "outputs": [
    {
     "data": {
      "text/plain": [
       "(2, 3)"
      ]
     },
     "execution_count": 15,
     "metadata": {},
     "output_type": "execute_result"
    }
   ],
   "source": [
    "a2.shape # return kich thuc matrix (row, column)"
   ]
  },
  {
   "cell_type": "code",
   "execution_count": 16,
   "id": "a9bbe445",
   "metadata": {},
   "outputs": [
    {
     "data": {
      "text/plain": [
       "2"
      ]
     },
     "execution_count": 16,
     "metadata": {},
     "output_type": "execute_result"
    }
   ],
   "source": [
    "a2.ndim # return số chiều của mảng"
   ]
  },
  {
   "cell_type": "code",
   "execution_count": 17,
   "id": "02c20c7e",
   "metadata": {},
   "outputs": [
    {
     "data": {
      "text/plain": [
       "dtype('int32')"
      ]
     },
     "execution_count": 17,
     "metadata": {},
     "output_type": "execute_result"
    }
   ],
   "source": [
    "a2.dtype # return kiểu dl trong matrix"
   ]
  },
  {
   "cell_type": "code",
   "execution_count": 18,
   "id": "d3f3e4a1",
   "metadata": {},
   "outputs": [
    {
     "data": {
      "text/plain": [
       "6"
      ]
     },
     "execution_count": 18,
     "metadata": {},
     "output_type": "execute_result"
    }
   ],
   "source": [
    "a2.size # return: number of elements "
   ]
  }
 ],
 "metadata": {
  "kernelspec": {
   "display_name": "Python 3 (ipykernel)",
   "language": "python",
   "name": "python3"
  },
  "language_info": {
   "codemirror_mode": {
    "name": "ipython",
    "version": 3
   },
   "file_extension": ".py",
   "mimetype": "text/x-python",
   "name": "python",
   "nbconvert_exporter": "python",
   "pygments_lexer": "ipython3",
   "version": "3.9.13"
  }
 },
 "nbformat": 4,
 "nbformat_minor": 5
}
