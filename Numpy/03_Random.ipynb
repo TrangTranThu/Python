{
 "cells": [
  {
   "cell_type": "markdown",
   "id": "411320c8",
   "metadata": {},
   "source": [
    "# random"
   ]
  },
  {
   "cell_type": "code",
   "execution_count": 1,
   "id": "a8be7708",
   "metadata": {},
   "outputs": [],
   "source": [
    "import numpy as np"
   ]
  },
  {
   "cell_type": "markdown",
   "id": "0780a808",
   "metadata": {},
   "source": [
    "#### random: create an array with elements ngẫu nhiên "
   ]
  },
  {
   "cell_type": "code",
   "execution_count": 6,
   "id": "3850bf3b",
   "metadata": {},
   "outputs": [
    {
     "data": {
      "text/plain": [
       "array([[0.5488135 , 0.71518937, 0.60276338],\n",
       "       [0.54488318, 0.4236548 , 0.64589411],\n",
       "       [0.43758721, 0.891773  , 0.96366276]])"
      ]
     },
     "execution_count": 6,
     "metadata": {},
     "output_type": "execute_result"
    }
   ],
   "source": [
    "# seed for reproducibility\n",
    "np.random.seed(0)\n",
    "# Create a 3x3 array of uniformly distributed\n",
    "# random values between 0 and 1\n",
    "\n",
    "np.random.random((3,3))"
   ]
  },
  {
   "cell_type": "code",
   "execution_count": 17,
   "id": "3af3280e",
   "metadata": {},
   "outputs": [
    {
     "data": {
      "text/plain": [
       "array([0.10022689, 0.91948261, 0.7142413 , 0.99884701, 0.1494483 ])"
      ]
     },
     "execution_count": 17,
     "metadata": {},
     "output_type": "execute_result"
    }
   ],
   "source": [
    "np.random.random(5)"
   ]
  },
  {
   "cell_type": "code",
   "execution_count": 21,
   "id": "6a0ef9de",
   "metadata": {},
   "outputs": [
    {
     "data": {
      "text/plain": [
       "array([[0.311945  , 0.39822106, 0.20984375, 0.18619301],\n",
       "       [0.94437239, 0.7395508 , 0.49045881, 0.22741463],\n",
       "       [0.25435648, 0.05802916, 0.43441663, 0.31179588]])"
      ]
     },
     "execution_count": 21,
     "metadata": {},
     "output_type": "execute_result"
    }
   ],
   "source": [
    "# rand(d0, d1, ..., dn)\n",
    "# Random values in a given shape.\n",
    "np.random.rand(3, 4)"
   ]
  },
  {
   "cell_type": "code",
   "execution_count": 23,
   "id": "f4f5fb6f",
   "metadata": {},
   "outputs": [
    {
     "data": {
      "text/plain": [
       "array([11, 11, 12, 10, 13])"
      ]
     },
     "execution_count": 23,
     "metadata": {},
     "output_type": "execute_result"
    }
   ],
   "source": [
    "# randint(low, high=None, size=None, dtype=int)\n",
    "# Return random integers from 'low' (inclusive) to 'high' (exclusive).\n",
    "np.random.randint(10, 15, size = 5) "
   ]
  },
  {
   "cell_type": "code",
   "execution_count": 25,
   "id": "3f9e5742",
   "metadata": {},
   "outputs": [
    {
     "data": {
      "text/plain": [
       "array([[ 4.76257647,  2.95618296,  4.57049184],\n",
       "       [ 0.04692322, -1.10272853,  4.04478355],\n",
       "       [-0.41022899, -0.06864933,  0.63340249]])"
      ]
     },
     "execution_count": 25,
     "metadata": {},
     "output_type": "execute_result"
    }
   ],
   "source": [
    "# Độ lệch chuẩn\n",
    "# Create a 3x3 array of normally distributed random values\n",
    "# with mean 0 and standard deviation 1\n",
    "np.random.normal(2, 3, (3, 3))"
   ]
  },
  {
   "cell_type": "code",
   "execution_count": 26,
   "id": "599b18b7",
   "metadata": {},
   "outputs": [
    {
     "data": {
      "text/plain": [
       "array([[39, 27, 28, 49],\n",
       "       [33, 25, 20, 28]])"
      ]
     },
     "execution_count": 26,
     "metadata": {},
     "output_type": "execute_result"
    }
   ],
   "source": [
    "# not include 50\n",
    "# randint(low, high=None, size=None, dtype=int)\n",
    "# Return random integers from `low` (inclusive) to `high` (exclusive).\n",
    "np.random.randint(20, 50, (2, 4))"
   ]
  },
  {
   "cell_type": "markdown",
   "id": "48cb3999",
   "metadata": {},
   "source": [
    "#### eye, empty"
   ]
  },
  {
   "cell_type": "code",
   "execution_count": 28,
   "id": "693acbfd",
   "metadata": {},
   "outputs": [
    {
     "data": {
      "text/plain": [
       "array([[1., 0., 0., 0., 0.],\n",
       "       [0., 1., 0., 0., 0.],\n",
       "       [0., 0., 1., 0., 0.],\n",
       "       [0., 0., 0., 1., 0.],\n",
       "       [0., 0., 0., 0., 1.]])"
      ]
     },
     "execution_count": 28,
     "metadata": {},
     "output_type": "execute_result"
    }
   ],
   "source": [
    "# ma trận đơn vị\n",
    "# Return a 2-D array with ones on the diagonal and zeros elsewhere.\n",
    "np.eye(5) "
   ]
  },
  {
   "cell_type": "code",
   "execution_count": 29,
   "id": "c5aed15a",
   "metadata": {},
   "outputs": [
    {
     "data": {
      "text/plain": [
       "array([[1, 0, 0],\n",
       "       [0, 1, 0],\n",
       "       [0, 0, 1]], dtype=int8)"
      ]
     },
     "execution_count": 29,
     "metadata": {},
     "output_type": "execute_result"
    }
   ],
   "source": [
    "np.eye(3, dtype='int8')"
   ]
  },
  {
   "cell_type": "code",
   "execution_count": 32,
   "id": "22f867a2",
   "metadata": {},
   "outputs": [
    {
     "data": {
      "text/plain": [
       "array([1., 1., 1.])"
      ]
     },
     "execution_count": 32,
     "metadata": {},
     "output_type": "execute_result"
    }
   ],
   "source": [
    "# Create an uninitialized array of three integers\n",
    "# The values will be whatever happens to already exist at that memory location\n",
    "np.empty(3)"
   ]
  }
 ],
 "metadata": {
  "kernelspec": {
   "display_name": "Python 3 (ipykernel)",
   "language": "python",
   "name": "python3"
  },
  "language_info": {
   "codemirror_mode": {
    "name": "ipython",
    "version": 3
   },
   "file_extension": ".py",
   "mimetype": "text/x-python",
   "name": "python",
   "nbconvert_exporter": "python",
   "pygments_lexer": "ipython3",
   "version": "3.9.13"
  }
 },
 "nbformat": 4,
 "nbformat_minor": 5
}
