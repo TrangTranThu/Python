{
 "cells": [
  {
   "cell_type": "code",
   "execution_count": 1,
   "id": "a8be7708",
   "metadata": {},
   "outputs": [],
   "source": [
    "import numpy as np"
   ]
  },
  {
   "cell_type": "markdown",
   "id": "411320c8",
   "metadata": {},
   "source": [
    "# random"
   ]
  },
  {
   "cell_type": "code",
   "execution_count": 3,
   "id": "67ff5be3",
   "metadata": {},
   "outputs": [],
   "source": [
    "# create an array with elements ngẫu nhiên "
   ]
  },
  {
   "cell_type": "code",
   "execution_count": 11,
   "id": "3850bf3b",
   "metadata": {},
   "outputs": [
    {
     "data": {
      "text/plain": [
       "array([[0.5488135 , 0.71518937, 0.60276338, 0.54488318],\n",
       "       [0.4236548 , 0.64589411, 0.43758721, 0.891773  ],\n",
       "       [0.96366276, 0.38344152, 0.79172504, 0.52889492],\n",
       "       [0.56804456, 0.92559664, 0.07103606, 0.0871293 ]])"
      ]
     },
     "execution_count": 11,
     "metadata": {},
     "output_type": "execute_result"
    }
   ],
   "source": [
    "# seed for reproducibility\n",
    "np.random.seed(0)\n",
    "np.random.random((4, 4))"
   ]
  },
  {
   "cell_type": "code",
   "execution_count": 19,
   "id": "b98124b0",
   "metadata": {},
   "outputs": [
    {
     "data": {
      "text/plain": [
       "array([[0.4686512 , 0.97676109, 0.60484552, 0.73926358],\n",
       "       [0.03918779, 0.28280696, 0.12019656, 0.2961402 ],\n",
       "       [0.11872772, 0.31798318, 0.41426299, 0.0641475 ],\n",
       "       [0.69247212, 0.56660145, 0.26538949, 0.52324805]])"
      ]
     },
     "execution_count": 19,
     "metadata": {},
     "output_type": "execute_result"
    }
   ],
   "source": [
    "np.random.random((4, 4))"
   ]
  },
  {
   "cell_type": "code",
   "execution_count": 21,
   "id": "6a0ef9de",
   "metadata": {},
   "outputs": [
    {
     "data": {
      "text/plain": [
       "array([[0.09394051, 0.5759465 , 0.9292962 , 0.31856895],\n",
       "       [0.66741038, 0.13179786, 0.7163272 , 0.28940609],\n",
       "       [0.18319136, 0.58651293, 0.02010755, 0.82894003],\n",
       "       [0.00469548, 0.67781654, 0.27000797, 0.73519402]])"
      ]
     },
     "execution_count": 21,
     "metadata": {},
     "output_type": "execute_result"
    }
   ],
   "source": [
    "np.random.rand(4,4)"
   ]
  },
  {
   "cell_type": "code",
   "execution_count": 15,
   "id": "3f9e5742",
   "metadata": {},
   "outputs": [
    {
     "data": {
      "text/plain": [
       "array([[-1.70627019,  1.9507754 , -0.50965218],\n",
       "       [-0.4380743 , -1.25279536,  0.77749036],\n",
       "       [-1.61389785, -0.21274028, -0.89546656]])"
      ]
     },
     "execution_count": 15,
     "metadata": {},
     "output_type": "execute_result"
    }
   ],
   "source": [
    "# do lech chuyan = 1\n",
    "# min = 0\n",
    "\n",
    "np.random.normal(0, 1, [3, 3]) "
   ]
  },
  {
   "cell_type": "code",
   "execution_count": 18,
   "id": "599b18b7",
   "metadata": {},
   "outputs": [
    {
     "data": {
      "text/plain": [
       "array([[29, 23, 20, 25],\n",
       "       [20, 37, 38, 24],\n",
       "       [22, 36, 49, 23]])"
      ]
     },
     "execution_count": 18,
     "metadata": {},
     "output_type": "execute_result"
    }
   ],
   "source": [
    "# not include 50\n",
    "np.random.randint(20, 50, [3, 4])"
   ]
  }
 ],
 "metadata": {
  "kernelspec": {
   "display_name": "Python 3 (ipykernel)",
   "language": "python",
   "name": "python3"
  },
  "language_info": {
   "codemirror_mode": {
    "name": "ipython",
    "version": 3
   },
   "file_extension": ".py",
   "mimetype": "text/x-python",
   "name": "python",
   "nbconvert_exporter": "python",
   "pygments_lexer": "ipython3",
   "version": "3.9.13"
  }
 },
 "nbformat": 4,
 "nbformat_minor": 5
}
