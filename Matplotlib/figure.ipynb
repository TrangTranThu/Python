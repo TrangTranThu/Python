{
 "cells": [
  {
   "cell_type": "code",
   "execution_count": 3,
   "id": "66c0de77",
   "metadata": {},
   "outputs": [],
   "source": [
    "import numpy as np\n",
    "import matplotlib.pyplot as plt"
   ]
  },
  {
   "cell_type": "markdown",
   "id": "2b5772da",
   "metadata": {},
   "source": [
    "def figure(num=None,  # autoincrement if None, else integer from 1-N\n",
    "           figsize=None,  # defaults to rc figure.figsize\n",
    "           dpi=None,  # defaults to rc figure.dpi\n",
    "           facecolor=None,  # defaults to rc figure.facecolor\n",
    "           edgecolor=None,  # defaults to rc figure.edgecolor\n",
    "           frameon=True,\n",
    "           FigureClass=Figure,\n",
    "           clear=False,\n",
    "           **kwargs\n",
    "           ):\n",
    " "
   ]
  },
  {
   "cell_type": "code",
   "execution_count": null,
   "id": "27fd68c6",
   "metadata": {},
   "outputs": [],
   "source": []
  }
 ],
 "metadata": {
  "kernelspec": {
   "display_name": "Python 3 (ipykernel)",
   "language": "python",
   "name": "python3"
  },
  "language_info": {
   "codemirror_mode": {
    "name": "ipython",
    "version": 3
   },
   "file_extension": ".py",
   "mimetype": "text/x-python",
   "name": "python",
   "nbconvert_exporter": "python",
   "pygments_lexer": "ipython3",
   "version": "3.9.13"
  }
 },
 "nbformat": 4,
 "nbformat_minor": 5
}
