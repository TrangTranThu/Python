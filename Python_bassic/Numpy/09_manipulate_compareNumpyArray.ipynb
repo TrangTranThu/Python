{
 "cells": [
  {
   "cell_type": "markdown",
   "id": "8d5db6f1",
   "metadata": {},
   "source": [
    "# manipulate, compare Numpy Array"
   ]
  },
  {
   "cell_type": "markdown",
   "id": "4ff72631",
   "metadata": {},
   "source": [
    "## aggregation"
   ]
  },
  {
   "cell_type": "markdown",
   "id": "32bea6ad",
   "metadata": {},
   "source": [
    "Aggregation = performkng the same operation on a number of thing"
   ]
  },
  {
   "cell_type": "code",
   "execution_count": 3,
   "id": "a21d4ac1",
   "metadata": {},
   "outputs": [],
   "source": [
    "import numpy as np"
   ]
  },
  {
   "cell_type": "code",
   "execution_count": 4,
   "id": "fe19349c",
   "metadata": {},
   "outputs": [],
   "source": [
    "list_number = [1, 2, 3]"
   ]
  },
  {
   "cell_type": "code",
   "execution_count": 5,
   "id": "e2106179",
   "metadata": {},
   "outputs": [],
   "source": [
    "ll = np.array(list_number)"
   ]
  },
  {
   "cell_type": "code",
   "execution_count": 6,
   "id": "333a95cb",
   "metadata": {},
   "outputs": [
    {
     "data": {
      "text/plain": [
       "6"
      ]
     },
     "execution_count": 6,
     "metadata": {},
     "output_type": "execute_result"
    }
   ],
   "source": [
    "np.sum(ll)"
   ]
  },
  {
   "cell_type": "code",
   "execution_count": 7,
   "id": "44f4155f",
   "metadata": {},
   "outputs": [
    {
     "data": {
      "text/plain": [
       "3"
      ]
     },
     "execution_count": 7,
     "metadata": {},
     "output_type": "execute_result"
    }
   ],
   "source": [
    "np.max(ll)"
   ]
  },
  {
   "cell_type": "code",
   "execution_count": 9,
   "id": "08fd093e",
   "metadata": {},
   "outputs": [
    {
     "data": {
      "text/plain": [
       "1"
      ]
     },
     "execution_count": 9,
     "metadata": {},
     "output_type": "execute_result"
    }
   ],
   "source": [
    "np.min(ll)"
   ]
  },
  {
   "cell_type": "code",
   "execution_count": null,
   "id": "1ed6cdc1",
   "metadata": {},
   "outputs": [],
   "source": []
  }
 ],
 "metadata": {
  "kernelspec": {
   "display_name": "Python 3 (ipykernel)",
   "language": "python",
   "name": "python3"
  },
  "language_info": {
   "codemirror_mode": {
    "name": "ipython",
    "version": 3
   },
   "file_extension": ".py",
   "mimetype": "text/x-python",
   "name": "python",
   "nbconvert_exporter": "python",
   "pygments_lexer": "ipython3",
   "version": "3.9.13"
  }
 },
 "nbformat": 4,
 "nbformat_minor": 5
}
