{
 "cells": [
  {
   "cell_type": "markdown",
   "id": "e1a8ba31",
   "metadata": {},
   "source": [
    "# Creating Numpy Arrays from Scratch"
   ]
  },
  {
   "cell_type": "markdown",
   "id": "54d26505",
   "metadata": {},
   "source": [
    "### zeros, ones, full, arange, linspace, eye, diag\n"
   ]
  },
  {
   "cell_type": "code",
   "execution_count": 2,
   "id": "ddac8a63",
   "metadata": {},
   "outputs": [],
   "source": [
    "import numpy as np"
   ]
  },
  {
   "cell_type": "code",
   "execution_count": 3,
   "id": "770c7250",
   "metadata": {},
   "outputs": [],
   "source": [
    "# shift + tab : để được đối số truyền vào"
   ]
  },
  {
   "cell_type": "markdown",
   "id": "236c7665",
   "metadata": {},
   "source": [
    "#### Zeros: create an array filled 0"
   ]
  },
  {
   "cell_type": "code",
   "execution_count": 4,
   "id": "c9ea490e",
   "metadata": {},
   "outputs": [
    {
     "data": {
      "text/plain": [
       "array([0, 0, 0, 0, 0, 0, 0, 0, 0, 0])"
      ]
     },
     "execution_count": 4,
     "metadata": {},
     "output_type": "execute_result"
    }
   ],
   "source": [
    "np.zeros(10, dtype = int) # truyền 1 đối số là mảng 1 chiều có 10 phần tử"
   ]
  },
  {
   "cell_type": "code",
   "execution_count": 5,
   "id": "745a67f5",
   "metadata": {},
   "outputs": [
    {
     "data": {
      "text/plain": [
       "array([0., 0., 0., 0., 0., 0., 0., 0., 0., 0.])"
      ]
     },
     "execution_count": 5,
     "metadata": {},
     "output_type": "execute_result"
    }
   ],
   "source": [
    "np.zeros(10) # mặc định dtype = float"
   ]
  },
  {
   "cell_type": "code",
   "execution_count": 6,
   "id": "74485bff",
   "metadata": {},
   "outputs": [
    {
     "data": {
      "text/plain": [
       "array([[0, 0, 0, 0, 0],\n",
       "       [0, 0, 0, 0, 0],\n",
       "       [0, 0, 0, 0, 0]])"
      ]
     },
     "execution_count": 6,
     "metadata": {},
     "output_type": "execute_result"
    }
   ],
   "source": [
    "# Create a 3x5 floating-point array filled with zeros\n",
    "np.zeros((3, 5), dtype = int)  #multi-dimensional"
   ]
  },
  {
   "cell_type": "code",
   "execution_count": 7,
   "id": "8d986e7c",
   "metadata": {},
   "outputs": [
    {
     "ename": "SyntaxError",
     "evalue": "invalid syntax (1864103116.py, line 1)",
     "output_type": "error",
     "traceback": [
      "\u001b[1;36m  File \u001b[1;32m\"C:\\Users\\Admin\\AppData\\Local\\Temp\\ipykernel_4900\\1864103116.py\"\u001b[1;36m, line \u001b[1;32m1\u001b[0m\n\u001b[1;33m    Create a 3x5 floating-point array filled with zeros\u001b[0m\n\u001b[1;37m           ^\u001b[0m\n\u001b[1;31mSyntaxError\u001b[0m\u001b[1;31m:\u001b[0m invalid syntax\n"
     ]
    }
   ],
   "source": [
    "Create a 3x5 floating-point array filled with zeros\n",
    "np.zeros((3, 5))"
   ]
  },
  {
   "cell_type": "markdown",
   "id": "7442703c",
   "metadata": {},
   "source": [
    "#### Ones: create an array filled 1"
   ]
  },
  {
   "cell_type": "code",
   "execution_count": null,
   "id": "f3454c8a",
   "metadata": {},
   "outputs": [],
   "source": [
    "np.ones(10)"
   ]
  },
  {
   "cell_type": "code",
   "execution_count": null,
   "id": "c28e0144",
   "metadata": {},
   "outputs": [],
   "source": [
    "np.ones((3, 5))"
   ]
  },
  {
   "cell_type": "markdown",
   "id": "9d411279",
   "metadata": {},
   "source": [
    "#### Full: fill value"
   ]
  },
  {
   "cell_type": "code",
   "execution_count": null,
   "id": "1b77b65b",
   "metadata": {},
   "outputs": [],
   "source": [
    "# create an 2*4 array filled with 4\n",
    "np.full([2,4], 4)"
   ]
  },
  {
   "cell_type": "code",
   "execution_count": null,
   "id": "288dee3a",
   "metadata": {},
   "outputs": [],
   "source": [
    "# Create a 3x5 array filled with 3.14\n",
    "np.full((3, 5), 3.14)"
   ]
  },
  {
   "cell_type": "markdown",
   "id": "11ad822d",
   "metadata": {},
   "source": [
    "#### Arange: Create an array filled with a linear sequence"
   ]
  },
  {
   "cell_type": "code",
   "execution_count": null,
   "id": "df75662c",
   "metadata": {},
   "outputs": [],
   "source": [
    "# create an array filled with a linear sequence\n",
    "# starting at 0; ending at a number, stepping by 1(mac dinh)\n",
    "#(this is similar to the built-in range() function)\n",
    "np.arange(0, 20, 2)"
   ]
  },
  {
   "cell_type": "code",
   "execution_count": null,
   "id": "d775f3c9",
   "metadata": {},
   "outputs": [],
   "source": [
    "# create an array of five values evenly space between 0 and 1\n",
    "np.linspace(0, 1, 5) # chia đều thành các phần trong khoảng [0, 1]"
   ]
  },
  {
   "cell_type": "markdown",
   "id": "82715c81",
   "metadata": {},
   "source": [
    "#### eys: ma trận đơn vị"
   ]
  },
  {
   "cell_type": "code",
   "execution_count": 10,
   "id": "0c201be4",
   "metadata": {},
   "outputs": [],
   "source": [
    "a = np.eye(3)"
   ]
  },
  {
   "cell_type": "code",
   "execution_count": 11,
   "id": "64510724",
   "metadata": {},
   "outputs": [
    {
     "data": {
      "text/plain": [
       "array([[1., 0., 0.],\n",
       "       [0., 1., 0.],\n",
       "       [0., 0., 1.]])"
      ]
     },
     "execution_count": 11,
     "metadata": {},
     "output_type": "execute_result"
    }
   ],
   "source": [
    "a"
   ]
  }
 ],
 "metadata": {
  "kernelspec": {
   "display_name": "Python 3 (ipykernel)",
   "language": "python",
   "name": "python3"
  },
  "language_info": {
   "codemirror_mode": {
    "name": "ipython",
    "version": 3
   },
   "file_extension": ".py",
   "mimetype": "text/x-python",
   "name": "python",
   "nbconvert_exporter": "python",
   "pygments_lexer": "ipython3",
   "version": "3.9.13"
  }
 },
 "nbformat": 4,
 "nbformat_minor": 5
}
