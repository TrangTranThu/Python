{
 "cells": [
  {
   "cell_type": "markdown",
   "id": "e15c6f00",
   "metadata": {},
   "source": [
    "# Array indexing & Slicing"
   ]
  },
  {
   "cell_type": "markdown",
   "id": "9b8a53b3",
   "metadata": {},
   "source": [
    "## one-dimensional subarray"
   ]
  },
  {
   "cell_type": "code",
   "execution_count": 2,
   "id": "f4389a08",
   "metadata": {},
   "outputs": [],
   "source": [
    "import numpy as np"
   ]
  },
  {
   "cell_type": "code",
   "execution_count": 3,
   "id": "57d03eae",
   "metadata": {},
   "outputs": [],
   "source": [
    "x1 = np.random.randint(0, 20, size = 6) # One-dimensional array"
   ]
  },
  {
   "cell_type": "code",
   "execution_count": 4,
   "id": "a7505057",
   "metadata": {},
   "outputs": [
    {
     "data": {
      "text/plain": [
       "array([16, 11,  3,  7, 16,  0])"
      ]
     },
     "execution_count": 4,
     "metadata": {},
     "output_type": "execute_result"
    }
   ],
   "source": [
    "x1"
   ]
  },
  {
   "cell_type": "code",
   "execution_count": 5,
   "id": "bae13b22",
   "metadata": {},
   "outputs": [
    {
     "name": "stdout",
     "output_type": "stream",
     "text": [
      "16\n",
      "0\n"
     ]
    }
   ],
   "source": [
    "print(x1[4]) #access index 4\n",
    "print(x1[-1]) # position end"
   ]
  },
  {
   "cell_type": "markdown",
   "id": "1eaab7aa",
   "metadata": {},
   "source": [
    "## multi-dimensional subarray"
   ]
  },
  {
   "cell_type": "code",
   "execution_count": 6,
   "id": "4a96844e",
   "metadata": {},
   "outputs": [],
   "source": [
    "x2 = np.random.randint(0, 10, (3, 4)) # Two-dimensional array"
   ]
  },
  {
   "cell_type": "code",
   "execution_count": 7,
   "id": "8b761d99",
   "metadata": {},
   "outputs": [
    {
     "data": {
      "text/plain": [
       "array([[4, 5, 0, 9],\n",
       "       [1, 1, 2, 7],\n",
       "       [7, 2, 6, 3]])"
      ]
     },
     "execution_count": 7,
     "metadata": {},
     "output_type": "execute_result"
    }
   ],
   "source": [
    "x2"
   ]
  },
  {
   "cell_type": "code",
   "execution_count": 8,
   "id": "d14c7349",
   "metadata": {},
   "outputs": [
    {
     "data": {
      "text/plain": [
       "2"
      ]
     },
     "execution_count": 8,
     "metadata": {},
     "output_type": "execute_result"
    }
   ],
   "source": [
    "x2[1, 2] # access row 1 and column 2"
   ]
  },
  {
   "cell_type": "code",
   "execution_count": 9,
   "id": "048181b0",
   "metadata": {},
   "outputs": [],
   "source": [
    "x2[1, 2] = 8 # change "
   ]
  },
  {
   "cell_type": "code",
   "execution_count": 10,
   "id": "2e15838e",
   "metadata": {
    "scrolled": true
   },
   "outputs": [
    {
     "data": {
      "text/plain": [
       "array([[4, 5, 0, 9],\n",
       "       [1, 1, 8, 7],\n",
       "       [7, 2, 6, 3]])"
      ]
     },
     "execution_count": 10,
     "metadata": {},
     "output_type": "execute_result"
    }
   ],
   "source": [
    "x2\n"
   ]
  },
  {
   "cell_type": "code",
   "execution_count": 11,
   "id": "efaf9389",
   "metadata": {},
   "outputs": [
    {
     "data": {
      "text/plain": [
       "array([[4, 5, 0],\n",
       "       [1, 1, 8]])"
      ]
     },
     "execution_count": 11,
     "metadata": {},
     "output_type": "execute_result"
    }
   ],
   "source": [
    "x2[:2, :3]  # two rows, three columns"
   ]
  },
  {
   "cell_type": "code",
   "execution_count": 12,
   "id": "43d5f417",
   "metadata": {},
   "outputs": [
    {
     "name": "stdout",
     "output_type": "stream",
     "text": [
      "[4 1 7]\n"
     ]
    }
   ],
   "source": [
    "print(x2[:, 0])  # first column of x2"
   ]
  },
  {
   "cell_type": "code",
   "execution_count": 13,
   "id": "2bd378b5",
   "metadata": {},
   "outputs": [
    {
     "name": "stdout",
     "output_type": "stream",
     "text": [
      "[[1 2 3]\n",
      " [4 5 6]\n",
      " [7 8 9]]\n"
     ]
    }
   ],
   "source": [
    "grid = np.arange(1, 10).reshape((3, 3))\n",
    "print(grid)"
   ]
  },
  {
   "cell_type": "code",
   "execution_count": 14,
   "id": "511c377d",
   "metadata": {},
   "outputs": [],
   "source": [
    "x = np.array([1, 2, 3])"
   ]
  },
  {
   "cell_type": "code",
   "execution_count": 15,
   "id": "8d6fb44f",
   "metadata": {},
   "outputs": [
    {
     "data": {
      "text/plain": [
       "array([[1],\n",
       "       [2],\n",
       "       [3]])"
      ]
     },
     "execution_count": 15,
     "metadata": {},
     "output_type": "execute_result"
    }
   ],
   "source": [
    "# column vector via reshape \n",
    "x.reshape((3, 1))"
   ]
  },
  {
   "cell_type": "markdown",
   "id": "f7b57863",
   "metadata": {},
   "source": [
    "## Slicing"
   ]
  },
  {
   "cell_type": "markdown",
   "id": "d364a181",
   "metadata": {},
   "source": [
    "## x[start:stop:step]"
   ]
  },
  {
   "cell_type": "code",
   "execution_count": 16,
   "id": "5bb5a470",
   "metadata": {},
   "outputs": [
    {
     "data": {
      "text/plain": [
       "array([16, 11,  3,  7, 16,  0])"
      ]
     },
     "execution_count": 16,
     "metadata": {},
     "output_type": "execute_result"
    }
   ],
   "source": [
    "x1"
   ]
  },
  {
   "cell_type": "code",
   "execution_count": 17,
   "id": "6704cf06",
   "metadata": {},
   "outputs": [
    {
     "data": {
      "text/plain": [
       "array([16, 11,  3])"
      ]
     },
     "execution_count": 17,
     "metadata": {},
     "output_type": "execute_result"
    }
   ],
   "source": [
    "x1[:3] # First 3 Element"
   ]
  },
  {
   "cell_type": "code",
   "execution_count": 18,
   "id": "ae4c6e91",
   "metadata": {},
   "outputs": [
    {
     "data": {
      "text/plain": [
       "array([3, 7])"
      ]
     },
     "execution_count": 18,
     "metadata": {},
     "output_type": "execute_result"
    }
   ],
   "source": [
    "x1[2:4] # middle sub-array"
   ]
  },
  {
   "cell_type": "code",
   "execution_count": 19,
   "id": "3a88c4f2",
   "metadata": {},
   "outputs": [
    {
     "data": {
      "text/plain": [
       "array([16,  3, 16])"
      ]
     },
     "execution_count": 19,
     "metadata": {},
     "output_type": "execute_result"
    }
   ],
   "source": [
    "# every other element, every 2 step\n",
    "x1[::2]"
   ]
  },
  {
   "cell_type": "code",
   "execution_count": 30,
   "id": "dbd19ae4",
   "metadata": {},
   "outputs": [
    {
     "data": {
      "text/plain": [
       "array([[2, 3, 4],\n",
       "       [7, 8, 9]])"
      ]
     },
     "execution_count": 30,
     "metadata": {},
     "output_type": "execute_result"
    }
   ],
   "source": [
    "a = np.array([[1, 2, 3, 4, 5],\n",
    "              [6, 7, 8, 9, 10]])\n",
    "\n",
    "a[:, 3:]\n",
    "a[:, -3]\n",
    "a[0:2, 2]\n",
    "a[0:2, 1:4]"
   ]
  },
  {
   "cell_type": "code",
   "execution_count": null,
   "id": "d83a34c5",
   "metadata": {},
   "outputs": [],
   "source": []
  }
 ],
 "metadata": {
  "kernelspec": {
   "display_name": "Python 3 (ipykernel)",
   "language": "python",
   "name": "python3"
  },
  "language_info": {
   "codemirror_mode": {
    "name": "ipython",
    "version": 3
   },
   "file_extension": ".py",
   "mimetype": "text/x-python",
   "name": "python",
   "nbconvert_exporter": "python",
   "pygments_lexer": "ipython3",
   "version": "3.9.13"
  }
 },
 "nbformat": 4,
 "nbformat_minor": 5
}
