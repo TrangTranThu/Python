{
 "cells": [
  {
   "cell_type": "markdown",
   "id": "46b5b322",
   "metadata": {},
   "source": [
    "# Numpy: Numeric computing library"
   ]
  },
  {
   "cell_type": "markdown",
   "id": "f55a6357",
   "metadata": {},
   "source": [
    "Numpy(numerical Python) is one of the core packages for numerical computing in python\n",
    "Pandas, Matplotlib, Statmodels and many other Scientific libraries rely on Numpy"
   ]
  },
  {
   "cell_type": "code",
   "execution_count": 16,
   "id": "380ed69b",
   "metadata": {},
   "outputs": [],
   "source": [
    "import numpy as np"
   ]
  },
  {
   "cell_type": "markdown",
   "id": "2d3b9bb9",
   "metadata": {},
   "source": [
    "## Creating Numpy Arrays from Python Lists"
   ]
  },
  {
   "cell_type": "markdown",
   "id": "c2311e0d",
   "metadata": {},
   "source": [
    "Unlike Python lists, NumPy is constrained to arrays that all contain the same type. If types do not match, NumPy will upcast if possible (here, integers are up-cast to floating point)"
   ]
  },
  {
   "cell_type": "code",
   "execution_count": 22,
   "id": "ac90a089",
   "metadata": {},
   "outputs": [
    {
     "data": {
      "text/plain": [
       "[3.14, 4, 2, 3]"
      ]
     },
     "execution_count": 22,
     "metadata": {},
     "output_type": "execute_result"
    }
   ],
   "source": [
    "# list in python: cho phép chứa các item có khác kiểu dl\n",
    "[3.14, 4, 2, 3] "
   ]
  },
  {
   "cell_type": "code",
   "execution_count": 23,
   "id": "81b6a0f1",
   "metadata": {},
   "outputs": [
    {
     "data": {
      "text/plain": [
       "array([1., 2., 3., 4.], dtype=float32)"
      ]
     },
     "execution_count": 23,
     "metadata": {},
     "output_type": "execute_result"
    }
   ],
   "source": [
    "# numpy array cụ thể hóa kiểu dl của mảng\n",
    "np.array([1, 2, 3, 4], dtype = 'float32')"
   ]
  },
  {
   "cell_type": "code",
   "execution_count": 24,
   "id": "b8794663",
   "metadata": {},
   "outputs": [
    {
     "data": {
      "text/plain": [
       "array([3.14, 4.  , 2.  , 3.  ])"
      ]
     },
     "execution_count": 24,
     "metadata": {},
     "output_type": "execute_result"
    }
   ],
   "source": [
    "# numpy conver all int -> float\n",
    "np. array([3.14, 4, 2, 3])"
   ]
  },
  {
   "cell_type": "markdown",
   "id": "cc7c992f",
   "metadata": {},
   "source": [
    "Unlike Python lists, NumPy arrays can explicitly be multi-dimensional"
   ]
  },
  {
   "cell_type": "code",
   "execution_count": 25,
   "id": "09a7ec53",
   "metadata": {},
   "outputs": [
    {
     "data": {
      "text/plain": [
       "array([[2, 3, 4],\n",
       "       [4, 5, 6],\n",
       "       [6, 7, 8]])"
      ]
     },
     "execution_count": 25,
     "metadata": {},
     "output_type": "execute_result"
    }
   ],
   "source": [
    "#nested lists result in multi-dimensional arrays\n",
    "x = np.array([range(i, i+3) for i in [2, 4, 6]])\n",
    "x"
   ]
  },
  {
   "cell_type": "code",
   "execution_count": 26,
   "id": "cc091cf3",
   "metadata": {},
   "outputs": [],
   "source": [
    "a1 = np.array([1, 2, 3, 4])"
   ]
  },
  {
   "cell_type": "code",
   "execution_count": 27,
   "id": "ecb152be",
   "metadata": {},
   "outputs": [
    {
     "data": {
      "text/plain": [
       "numpy.ndarray"
      ]
     },
     "execution_count": 27,
     "metadata": {},
     "output_type": "execute_result"
    }
   ],
   "source": [
    "type(a1)"
   ]
  },
  {
   "cell_type": "code",
   "execution_count": 28,
   "id": "546ab7a9",
   "metadata": {},
   "outputs": [
    {
     "data": {
      "text/plain": [
       "dtype('int32')"
      ]
     },
     "execution_count": 28,
     "metadata": {},
     "output_type": "execute_result"
    }
   ],
   "source": [
    "a1.dtype"
   ]
  },
  {
   "cell_type": "code",
   "execution_count": 29,
   "id": "a49e1666",
   "metadata": {},
   "outputs": [],
   "source": [
    "a2 = np.array([[1, 2, 3],\n",
    "               [4, 5, 6]])"
   ]
  },
  {
   "cell_type": "code",
   "execution_count": 30,
   "id": "8abbbfc4",
   "metadata": {},
   "outputs": [
    {
     "data": {
      "text/plain": [
       "numpy.ndarray"
      ]
     },
     "execution_count": 30,
     "metadata": {},
     "output_type": "execute_result"
    }
   ],
   "source": [
    "type(a2)"
   ]
  },
  {
   "cell_type": "code",
   "execution_count": 31,
   "id": "02c20c7e",
   "metadata": {},
   "outputs": [
    {
     "data": {
      "text/plain": [
       "dtype('int32')"
      ]
     },
     "execution_count": 31,
     "metadata": {},
     "output_type": "execute_result"
    }
   ],
   "source": [
    "# return kiểu dl trong matrix\n",
    "a2.dtype "
   ]
  },
  {
   "cell_type": "markdown",
   "id": "5b1b3ed5",
   "metadata": {},
   "source": [
    "### NumPy Array Attributes"
   ]
  },
  {
   "cell_type": "code",
   "execution_count": 32,
   "id": "e28856fa",
   "metadata": {},
   "outputs": [
    {
     "data": {
      "text/plain": [
       "(2, 3)"
      ]
     },
     "execution_count": 32,
     "metadata": {},
     "output_type": "execute_result"
    }
   ],
   "source": [
    "# return kich thuc matrix (row, column)\n",
    "a2.shape "
   ]
  },
  {
   "cell_type": "code",
   "execution_count": 33,
   "id": "a9bbe445",
   "metadata": {},
   "outputs": [
    {
     "data": {
      "text/plain": [
       "2"
      ]
     },
     "execution_count": 33,
     "metadata": {},
     "output_type": "execute_result"
    }
   ],
   "source": [
    "# return số chiều của mảng\n",
    "a2.ndim"
   ]
  },
  {
   "cell_type": "code",
   "execution_count": 34,
   "id": "d3f3e4a1",
   "metadata": {},
   "outputs": [
    {
     "data": {
      "text/plain": [
       "6"
      ]
     },
     "execution_count": 34,
     "metadata": {},
     "output_type": "execute_result"
    }
   ],
   "source": [
    "# return: number of elements \n",
    "a2.size "
   ]
  },
  {
   "cell_type": "code",
   "execution_count": 35,
   "id": "68d8f505",
   "metadata": {},
   "outputs": [
    {
     "data": {
      "text/plain": [
       "2"
      ]
     },
     "execution_count": 35,
     "metadata": {},
     "output_type": "execute_result"
    }
   ],
   "source": [
    "len(a2)"
   ]
  },
  {
   "cell_type": "code",
   "execution_count": 36,
   "id": "a9aec0fb",
   "metadata": {},
   "outputs": [
    {
     "data": {
      "text/plain": [
       "4"
      ]
     },
     "execution_count": 36,
     "metadata": {},
     "output_type": "execute_result"
    }
   ],
   "source": [
    "a2.itemsize"
   ]
  },
  {
   "cell_type": "code",
   "execution_count": 37,
   "id": "25a01e27",
   "metadata": {},
   "outputs": [
    {
     "data": {
      "text/plain": [
       "dtype('int32')"
      ]
     },
     "execution_count": 37,
     "metadata": {},
     "output_type": "execute_result"
    }
   ],
   "source": [
    "a2.dtype"
   ]
  },
  {
   "cell_type": "code",
   "execution_count": 38,
   "id": "25f5d0cd",
   "metadata": {},
   "outputs": [],
   "source": [
    "A = np.array([[1, 2, 3], [2, 3, 4], [5, 6, 2]])"
   ]
  },
  {
   "cell_type": "code",
   "execution_count": 40,
   "id": "ac397bcf",
   "metadata": {},
   "outputs": [
    {
     "data": {
      "text/plain": [
       "array([[1, 2, 3],\n",
       "       [2, 3, 4],\n",
       "       [5, 6, 2]])"
      ]
     },
     "execution_count": 40,
     "metadata": {},
     "output_type": "execute_result"
    }
   ],
   "source": [
    "A"
   ]
  },
  {
   "cell_type": "code",
   "execution_count": 42,
   "id": "995b2abb",
   "metadata": {},
   "outputs": [
    {
     "data": {
      "text/plain": [
       "4"
      ]
     },
     "execution_count": 42,
     "metadata": {},
     "output_type": "execute_result"
    }
   ],
   "source": [
    "A.itemsize"
   ]
  },
  {
   "cell_type": "code",
   "execution_count": 58,
   "id": "f0f377af",
   "metadata": {},
   "outputs": [],
   "source": [
    "a = np.arange(10) # create a matrix\n",
    "b = np.arange(2, 100, 2)\n",
    "c = np.linspace(3, 100, 3)"
   ]
  },
  {
   "cell_type": "markdown",
   "id": "d152341f",
   "metadata": {},
   "source": [
    "### BT"
   ]
  },
  {
   "cell_type": "code",
   "execution_count": 64,
   "id": "d57f2526",
   "metadata": {},
   "outputs": [
    {
     "data": {
      "text/plain": [
       "array([1, 2, 3, 4, 5])"
      ]
     },
     "execution_count": 64,
     "metadata": {},
     "output_type": "execute_result"
    }
   ],
   "source": [
    "a = np.array([1, 2, 3, 4, 5])\n",
    "a"
   ]
  },
  {
   "cell_type": "code",
   "execution_count": 71,
   "id": "9cb769f1",
   "metadata": {},
   "outputs": [
    {
     "name": "stdout",
     "output_type": "stream",
     "text": [
      "n = 7\n"
     ]
    },
    {
     "data": {
      "text/plain": [
       "array([ 1. ,  2.5,  4. ,  5.5,  7. ,  8.5, 10. ])"
      ]
     },
     "execution_count": 71,
     "metadata": {},
     "output_type": "execute_result"
    }
   ],
   "source": [
    "n = int(input('n = '))\n",
    "a1 = np.linspace(1, 10, n)\n",
    "a1"
   ]
  },
  {
   "cell_type": "code",
   "execution_count": 67,
   "id": "0c6b1f86",
   "metadata": {},
   "outputs": [
    {
     "data": {
      "text/plain": [
       "array([[1, 2, 3, 4, 5],\n",
       "       [6, 7, 8, 9, 1],\n",
       "       [3, 4, 2, 5, 2]])"
      ]
     },
     "execution_count": 67,
     "metadata": {},
     "output_type": "execute_result"
    }
   ],
   "source": [
    "a2 = np.array([[1, 2, 3, 4, 5],\n",
    "               [6, 7, 8, 9, 1],\n",
    "               [3, 4, 2, 5, 2]])\n",
    "a2"
   ]
  },
  {
   "cell_type": "code",
   "execution_count": 68,
   "id": "097dedc5",
   "metadata": {},
   "outputs": [
    {
     "data": {
      "text/plain": [
       "2"
      ]
     },
     "execution_count": 68,
     "metadata": {},
     "output_type": "execute_result"
    }
   ],
   "source": [
    "a2.ndim"
   ]
  },
  {
   "cell_type": "code",
   "execution_count": 78,
   "id": "be7531a4",
   "metadata": {},
   "outputs": [
    {
     "data": {
      "text/plain": [
       "(3, 5)"
      ]
     },
     "execution_count": 78,
     "metadata": {},
     "output_type": "execute_result"
    }
   ],
   "source": [
    "a2.shape"
   ]
  },
  {
   "cell_type": "code",
   "execution_count": 73,
   "id": "cf2bf861",
   "metadata": {},
   "outputs": [
    {
     "data": {
      "text/plain": [
       "dtype('int32')"
      ]
     },
     "execution_count": 73,
     "metadata": {},
     "output_type": "execute_result"
    }
   ],
   "source": [
    "a2.dtype"
   ]
  },
  {
   "cell_type": "code",
   "execution_count": 79,
   "id": "3c6d567f",
   "metadata": {},
   "outputs": [
    {
     "name": "stdout",
     "output_type": "stream",
     "text": [
      "n = 3\n",
      "m = 1\n"
     ]
    },
    {
     "data": {
      "text/plain": [
       "array([[1., 0., 0., 0., 0., 0., 0., 0., 0.],\n",
       "       [0., 1., 0., 0., 0., 0., 0., 0., 0.],\n",
       "       [0., 0., 1., 0., 0., 0., 0., 0., 0.],\n",
       "       [0., 0., 0., 1., 0., 0., 0., 0., 0.],\n",
       "       [0., 0., 0., 0., 1., 0., 0., 0., 0.],\n",
       "       [0., 0., 0., 0., 0., 1., 0., 0., 0.],\n",
       "       [0., 0., 0., 0., 0., 0., 1., 0., 0.],\n",
       "       [0., 0., 0., 0., 0., 0., 0., 1., 0.],\n",
       "       [0., 0., 0., 0., 0., 0., 0., 0., 1.]])"
      ]
     },
     "execution_count": 79,
     "metadata": {},
     "output_type": "execute_result"
    }
   ],
   "source": [
    "n = int(input('n = '))\n",
    "m = int(input('m = '))\n",
    "a3 = np.eye(n*n)\n",
    "a3"
   ]
  },
  {
   "cell_type": "code",
   "execution_count": 86,
   "id": "decf9554",
   "metadata": {},
   "outputs": [
    {
     "data": {
      "text/plain": [
       "array([[1, 0, 0, 0, 0],\n",
       "       [0, 2, 0, 0, 0],\n",
       "       [0, 0, 3, 0, 0],\n",
       "       [0, 0, 0, 4, 0],\n",
       "       [0, 0, 0, 0, 5]])"
      ]
     },
     "execution_count": 86,
     "metadata": {},
     "output_type": "execute_result"
    }
   ],
   "source": [
    "a4 = np.diag(a)\n",
    "a4"
   ]
  },
  {
   "cell_type": "code",
   "execution_count": null,
   "id": "aeb8d63d",
   "metadata": {},
   "outputs": [],
   "source": []
  }
 ],
 "metadata": {
  "kernelspec": {
   "display_name": "Python 3 (ipykernel)",
   "language": "python",
   "name": "python3"
  },
  "language_info": {
   "codemirror_mode": {
    "name": "ipython",
    "version": 3
   },
   "file_extension": ".py",
   "mimetype": "text/x-python",
   "name": "python",
   "nbconvert_exporter": "python",
   "pygments_lexer": "ipython3",
   "version": "3.9.13"
  }
 },
 "nbformat": 4,
 "nbformat_minor": 5
}
