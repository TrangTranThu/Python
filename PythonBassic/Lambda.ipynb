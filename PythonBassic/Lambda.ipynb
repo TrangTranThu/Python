{
 "cells": [
  {
   "cell_type": "markdown",
   "id": "d816447e",
   "metadata": {},
   "source": [
    "## Hàm ẩn danh - Lambda\n",
    "* Lambda arguments: expression"
   ]
  },
  {
   "cell_type": "code",
   "execution_count": 5,
   "id": "88ef0de3",
   "metadata": {},
   "outputs": [
    {
     "data": {
      "text/plain": [
       "2"
      ]
     },
     "execution_count": 5,
     "metadata": {},
     "output_type": "execute_result"
    }
   ],
   "source": [
    "x = lambda so: so+1\n",
    "x(1)"
   ]
  },
  {
   "cell_type": "code",
   "execution_count": 4,
   "id": "b848fe3a",
   "metadata": {},
   "outputs": [
    {
     "data": {
      "text/plain": [
       "6"
      ]
     },
     "execution_count": 4,
     "metadata": {},
     "output_type": "execute_result"
    }
   ],
   "source": [
    "x = lambda a, b, c: a+b+c\n",
    "x(1, 2, 3)"
   ]
  },
  {
   "cell_type": "markdown",
   "id": "90ebe358",
   "metadata": {},
   "source": [
    "### Custom sorting using a lambda function as key parameter"
   ]
  },
  {
   "cell_type": "code",
   "execution_count": 9,
   "id": "bb6907b2",
   "metadata": {},
   "outputs": [
    {
     "data": {
      "text/plain": [
       "[(1, 2), (2, 10), (7, 9), (34, 2)]"
      ]
     },
     "execution_count": 9,
     "metadata": {},
     "output_type": "execute_result"
    }
   ],
   "source": [
    "coordinate2D = [(7,9), (1, 2), (2, 10), (34, 2)]\n",
    "sorted(coordinate2D) # sort theo x"
   ]
  },
  {
   "cell_type": "code",
   "execution_count": 11,
   "id": "eda4e01c",
   "metadata": {},
   "outputs": [
    {
     "data": {
      "text/plain": [
       "[(1, 2), (34, 2), (7, 9), (2, 10)]"
      ]
     },
     "execution_count": 11,
     "metadata": {},
     "output_type": "execute_result"
    }
   ],
   "source": [
    "sorted(coordinate2D, key=lambda point: point[1]) # sort theo y"
   ]
  },
  {
   "cell_type": "code",
   "execution_count": 14,
   "id": "2bc79e07",
   "metadata": {},
   "outputs": [
    {
     "data": {
      "text/plain": [
       "[1, -1, -2, 3, -3, 4, 4, 5, 5]"
      ]
     },
     "execution_count": 14,
     "metadata": {},
     "output_type": "execute_result"
    }
   ],
   "source": [
    "numberList = [5, 3, -2, 4, 1, -1, -3, 4, 5]\n",
    "sorted(numberList, key=lambda x: abs(x))"
   ]
  },
  {
   "cell_type": "markdown",
   "id": "20a81a5d",
   "metadata": {},
   "source": [
    "#### Use lambda for map function"
   ]
  },
  {
   "cell_type": "code",
   "execution_count": 18,
   "id": "6aece218",
   "metadata": {},
   "outputs": [
    {
     "data": {
      "text/plain": [
       "['Trang', 'Nga', 'Hanh']"
      ]
     },
     "execution_count": 18,
     "metadata": {},
     "output_type": "execute_result"
    }
   ],
   "source": [
    "listKeyword = ['Trang', 'nga', 'hanh']\n",
    "list(map(lambda x: x.title(), listKeyword))"
   ]
  },
  {
   "cell_type": "code",
   "execution_count": 19,
   "id": "5b7c22e6",
   "metadata": {},
   "outputs": [
    {
     "data": {
      "text/plain": [
       "['Trang', 'Nga', 'Hanh']"
      ]
     },
     "execution_count": 19,
     "metadata": {},
     "output_type": "execute_result"
    }
   ],
   "source": [
    "newList = [keyword.title() for keyword in listKeyword]\n",
    "newList"
   ]
  },
  {
   "cell_type": "markdown",
   "id": "845e1b9d",
   "metadata": {},
   "source": [
    "#### use lambda for filter function"
   ]
  },
  {
   "cell_type": "code",
   "execution_count": 20,
   "id": "4a6ade4a",
   "metadata": {},
   "outputs": [
    {
     "data": {
      "text/plain": [
       "[1, 3, 5, 7]"
      ]
     },
     "execution_count": 20,
     "metadata": {},
     "output_type": "execute_result"
    }
   ],
   "source": [
    "#filter(func, seq)\n",
    "\n",
    "listNumber = [1, 2, 3, 4, 5, 6, 7]\n",
    "list(filter(lambda x: x%2==1, listNumber))"
   ]
  },
  {
   "cell_type": "code",
   "execution_count": 23,
   "id": "dac9ce21",
   "metadata": {},
   "outputs": [
    {
     "data": {
      "text/plain": [
       "[1, 3, 5, 7]"
      ]
     },
     "execution_count": 23,
     "metadata": {},
     "output_type": "execute_result"
    }
   ],
   "source": [
    "newlist = [x for x in listNumber if x%2==1]\n",
    "newlist"
   ]
  },
  {
   "cell_type": "markdown",
   "id": "3af5eb6d",
   "metadata": {},
   "source": [
    "###  use lambda for reduce function"
   ]
  },
  {
   "cell_type": "code",
   "execution_count": 27,
   "id": "41723086",
   "metadata": {},
   "outputs": [
    {
     "data": {
      "text/plain": [
       "34"
      ]
     },
     "execution_count": 27,
     "metadata": {},
     "output_type": "execute_result"
    }
   ],
   "source": [
    "# recude(func, seq)\n",
    "\n",
    "from functools import reduce\n",
    "seq = [1, 3, 5, 9, 6, 2, 8]\n",
    "reduce(lambda a, b: a+b, seq)"
   ]
  },
  {
   "cell_type": "code",
   "execution_count": 29,
   "id": "d5f8eecd",
   "metadata": {},
   "outputs": [
    {
     "data": {
      "text/plain": [
       "9"
      ]
     },
     "execution_count": 29,
     "metadata": {},
     "output_type": "execute_result"
    }
   ],
   "source": [
    "reduce(lambda a, b: a if a > b else b, seq)"
   ]
  }
 ],
 "metadata": {
  "kernelspec": {
   "display_name": "Python 3 (ipykernel)",
   "language": "python",
   "name": "python3"
  },
  "language_info": {
   "codemirror_mode": {
    "name": "ipython",
    "version": 3
   },
   "file_extension": ".py",
   "mimetype": "text/x-python",
   "name": "python",
   "nbconvert_exporter": "python",
   "pygments_lexer": "ipython3",
   "version": "3.9.13"
  }
 },
 "nbformat": 4,
 "nbformat_minor": 5
}
